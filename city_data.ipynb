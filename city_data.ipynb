{
 "cells": [
  {
   "cell_type": "markdown",
   "metadata": {},
   "source": [
    "## In this session we are going to analyze the innercity dataset from scratch\n",
    "### Basic to advanced analysis will be perfomed "
   ]
  },
  {
   "cell_type": "code",
   "execution_count": 1,
   "metadata": {},
   "outputs": [],
   "source": [
    "# Import the packages\n",
    "import pandas as pd\n",
    "import numpy as np\n",
    "import matplotlib as mpl\n",
    "import matplotlib.pyplot as plt\n",
    "import warnings\n",
    "warnings.filterwarnings('ignore')"
   ]
  },
  {
   "cell_type": "code",
   "execution_count": 2,
   "metadata": {},
   "outputs": [],
   "source": [
    "# Import the dataset\n",
    "data = pd.read_csv('innercity.csv')"
   ]
  },
  {
   "cell_type": "code",
   "execution_count": 3,
   "metadata": {},
   "outputs": [
    {
     "data": {
      "text/html": [
       "<div>\n",
       "<style scoped>\n",
       "    .dataframe tbody tr th:only-of-type {\n",
       "        vertical-align: middle;\n",
       "    }\n",
       "\n",
       "    .dataframe tbody tr th {\n",
       "        vertical-align: top;\n",
       "    }\n",
       "\n",
       "    .dataframe thead th {\n",
       "        text-align: right;\n",
       "    }\n",
       "</style>\n",
       "<table border=\"1\" class=\"dataframe\">\n",
       "  <thead>\n",
       "    <tr style=\"text-align: right;\">\n",
       "      <th></th>\n",
       "      <th>cid</th>\n",
       "      <th>dayhours</th>\n",
       "      <th>price</th>\n",
       "      <th>room_bed</th>\n",
       "      <th>room_bath</th>\n",
       "      <th>living_measure</th>\n",
       "      <th>lot_measure</th>\n",
       "      <th>ceil</th>\n",
       "      <th>coast</th>\n",
       "      <th>sight</th>\n",
       "      <th>...</th>\n",
       "      <th>basement</th>\n",
       "      <th>yr_built</th>\n",
       "      <th>yr_renovated</th>\n",
       "      <th>zipcode</th>\n",
       "      <th>lat</th>\n",
       "      <th>long</th>\n",
       "      <th>living_measure15</th>\n",
       "      <th>lot_measure15</th>\n",
       "      <th>furnished</th>\n",
       "      <th>total_area</th>\n",
       "    </tr>\n",
       "  </thead>\n",
       "  <tbody>\n",
       "    <tr>\n",
       "      <th>0</th>\n",
       "      <td>3034200666</td>\n",
       "      <td>20141107T000000</td>\n",
       "      <td>808100</td>\n",
       "      <td>4</td>\n",
       "      <td>3.25</td>\n",
       "      <td>3020</td>\n",
       "      <td>13457</td>\n",
       "      <td>1.0</td>\n",
       "      <td>0</td>\n",
       "      <td>0</td>\n",
       "      <td>...</td>\n",
       "      <td>0</td>\n",
       "      <td>1956</td>\n",
       "      <td>0</td>\n",
       "      <td>98133</td>\n",
       "      <td>47.7174</td>\n",
       "      <td>-122.336</td>\n",
       "      <td>2120</td>\n",
       "      <td>7553</td>\n",
       "      <td>1</td>\n",
       "      <td>16477</td>\n",
       "    </tr>\n",
       "    <tr>\n",
       "      <th>1</th>\n",
       "      <td>8731981640</td>\n",
       "      <td>20141204T000000</td>\n",
       "      <td>277500</td>\n",
       "      <td>4</td>\n",
       "      <td>2.50</td>\n",
       "      <td>2550</td>\n",
       "      <td>7500</td>\n",
       "      <td>1.0</td>\n",
       "      <td>0</td>\n",
       "      <td>0</td>\n",
       "      <td>...</td>\n",
       "      <td>800</td>\n",
       "      <td>1976</td>\n",
       "      <td>0</td>\n",
       "      <td>98023</td>\n",
       "      <td>47.3165</td>\n",
       "      <td>-122.386</td>\n",
       "      <td>2260</td>\n",
       "      <td>8800</td>\n",
       "      <td>0</td>\n",
       "      <td>10050</td>\n",
       "    </tr>\n",
       "    <tr>\n",
       "      <th>2</th>\n",
       "      <td>5104530220</td>\n",
       "      <td>20150420T000000</td>\n",
       "      <td>404000</td>\n",
       "      <td>3</td>\n",
       "      <td>2.50</td>\n",
       "      <td>2370</td>\n",
       "      <td>4324</td>\n",
       "      <td>2.0</td>\n",
       "      <td>0</td>\n",
       "      <td>0</td>\n",
       "      <td>...</td>\n",
       "      <td>0</td>\n",
       "      <td>2006</td>\n",
       "      <td>0</td>\n",
       "      <td>98038</td>\n",
       "      <td>47.3515</td>\n",
       "      <td>-121.999</td>\n",
       "      <td>2370</td>\n",
       "      <td>4348</td>\n",
       "      <td>0</td>\n",
       "      <td>6694</td>\n",
       "    </tr>\n",
       "    <tr>\n",
       "      <th>3</th>\n",
       "      <td>6145600285</td>\n",
       "      <td>20140529T000000</td>\n",
       "      <td>300000</td>\n",
       "      <td>2</td>\n",
       "      <td>1.00</td>\n",
       "      <td>820</td>\n",
       "      <td>3844</td>\n",
       "      <td>1.0</td>\n",
       "      <td>0</td>\n",
       "      <td>0</td>\n",
       "      <td>...</td>\n",
       "      <td>0</td>\n",
       "      <td>1916</td>\n",
       "      <td>0</td>\n",
       "      <td>98133</td>\n",
       "      <td>47.7049</td>\n",
       "      <td>-122.349</td>\n",
       "      <td>1520</td>\n",
       "      <td>3844</td>\n",
       "      <td>0</td>\n",
       "      <td>4664</td>\n",
       "    </tr>\n",
       "    <tr>\n",
       "      <th>4</th>\n",
       "      <td>8924100111</td>\n",
       "      <td>20150424T000000</td>\n",
       "      <td>699000</td>\n",
       "      <td>2</td>\n",
       "      <td>1.50</td>\n",
       "      <td>1400</td>\n",
       "      <td>4050</td>\n",
       "      <td>1.0</td>\n",
       "      <td>0</td>\n",
       "      <td>0</td>\n",
       "      <td>...</td>\n",
       "      <td>0</td>\n",
       "      <td>1954</td>\n",
       "      <td>0</td>\n",
       "      <td>98115</td>\n",
       "      <td>47.6768</td>\n",
       "      <td>-122.269</td>\n",
       "      <td>1900</td>\n",
       "      <td>5940</td>\n",
       "      <td>0</td>\n",
       "      <td>5450</td>\n",
       "    </tr>\n",
       "  </tbody>\n",
       "</table>\n",
       "<p>5 rows × 23 columns</p>\n",
       "</div>"
      ],
      "text/plain": [
       "          cid         dayhours   price  room_bed  room_bath  living_measure  \\\n",
       "0  3034200666  20141107T000000  808100         4       3.25            3020   \n",
       "1  8731981640  20141204T000000  277500         4       2.50            2550   \n",
       "2  5104530220  20150420T000000  404000         3       2.50            2370   \n",
       "3  6145600285  20140529T000000  300000         2       1.00             820   \n",
       "4  8924100111  20150424T000000  699000         2       1.50            1400   \n",
       "\n",
       "   lot_measure  ceil  coast  sight  ...  basement  yr_built  yr_renovated  \\\n",
       "0        13457   1.0      0      0  ...         0      1956             0   \n",
       "1         7500   1.0      0      0  ...       800      1976             0   \n",
       "2         4324   2.0      0      0  ...         0      2006             0   \n",
       "3         3844   1.0      0      0  ...         0      1916             0   \n",
       "4         4050   1.0      0      0  ...         0      1954             0   \n",
       "\n",
       "   zipcode      lat     long  living_measure15  lot_measure15  furnished  \\\n",
       "0    98133  47.7174 -122.336              2120           7553          1   \n",
       "1    98023  47.3165 -122.386              2260           8800          0   \n",
       "2    98038  47.3515 -121.999              2370           4348          0   \n",
       "3    98133  47.7049 -122.349              1520           3844          0   \n",
       "4    98115  47.6768 -122.269              1900           5940          0   \n",
       "\n",
       "   total_area  \n",
       "0       16477  \n",
       "1       10050  \n",
       "2        6694  \n",
       "3        4664  \n",
       "4        5450  \n",
       "\n",
       "[5 rows x 23 columns]"
      ]
     },
     "execution_count": 3,
     "metadata": {},
     "output_type": "execute_result"
    }
   ],
   "source": [
    "data.head()"
   ]
  },
  {
   "cell_type": "markdown",
   "metadata": {},
   "source": [
    "# Dataset Description\n",
    "- cid: a notation for a house\n",
    "- dayhours: Date house was sold\n",
    "- price: Price is prediction target\n",
    "- room_bed: Number of Bedrooms/House\n",
    "- room_bath: Number of bathrooms/bedrooms\n",
    "- living_measure: square footage of the home\n",
    "- lot_measure: quare footage of the lot\n",
    "- ceil: Total floors (levels) in house\n",
    "- coast: House which has a view to a waterfront\n",
    "- sight: Has been viewed\n",
    "- condition: How good the condition is (Overall)\n",
    "- quality: grade given to the housing unit, based on grading system\n",
    "- ceil_measure: square footage of house apart from basement\n",
    "- basement_measure: square footage of the basement\n",
    "- yr_built: Built Year\n",
    "- yr_renovated: Year when house was renovated\n",
    "- zipcode: zip\n",
    "- lat: Latitude coordinate\n",
    "- long: Longitude coordinate\n",
    "- living_measure15: Living room area in 2015(implies-- some renovations) This might or might not have affected the lotsize area\n",
    "- lot_measure15: lotSize area in 2015(implies-- some renovations)\n",
    "- furnished: Based on the quality of room 23: total_area: Measure of both living and lot"
   ]
  },
  {
   "cell_type": "code",
   "execution_count": 4,
   "metadata": {},
   "outputs": [
    {
     "data": {
      "text/plain": [
       "(21613, 23)"
      ]
     },
     "execution_count": 4,
     "metadata": {},
     "output_type": "execute_result"
    }
   ],
   "source": [
    "#rows and columns in the dataset\n",
    "data.shape"
   ]
  },
  {
   "cell_type": "code",
   "execution_count": 5,
   "metadata": {},
   "outputs": [
    {
     "data": {
      "text/html": [
       "<div>\n",
       "<style scoped>\n",
       "    .dataframe tbody tr th:only-of-type {\n",
       "        vertical-align: middle;\n",
       "    }\n",
       "\n",
       "    .dataframe tbody tr th {\n",
       "        vertical-align: top;\n",
       "    }\n",
       "\n",
       "    .dataframe thead th {\n",
       "        text-align: right;\n",
       "    }\n",
       "</style>\n",
       "<table border=\"1\" class=\"dataframe\">\n",
       "  <thead>\n",
       "    <tr style=\"text-align: right;\">\n",
       "      <th></th>\n",
       "      <th>cid</th>\n",
       "      <th>dayhours</th>\n",
       "      <th>price</th>\n",
       "      <th>room_bed</th>\n",
       "      <th>room_bath</th>\n",
       "      <th>living_measure</th>\n",
       "      <th>lot_measure</th>\n",
       "      <th>ceil</th>\n",
       "      <th>coast</th>\n",
       "      <th>sight</th>\n",
       "      <th>...</th>\n",
       "      <th>basement</th>\n",
       "      <th>yr_built</th>\n",
       "      <th>yr_renovated</th>\n",
       "      <th>zipcode</th>\n",
       "      <th>lat</th>\n",
       "      <th>long</th>\n",
       "      <th>living_measure15</th>\n",
       "      <th>lot_measure15</th>\n",
       "      <th>furnished</th>\n",
       "      <th>total_area</th>\n",
       "    </tr>\n",
       "  </thead>\n",
       "  <tbody>\n",
       "    <tr>\n",
       "      <th>0</th>\n",
       "      <td>False</td>\n",
       "      <td>False</td>\n",
       "      <td>False</td>\n",
       "      <td>False</td>\n",
       "      <td>False</td>\n",
       "      <td>False</td>\n",
       "      <td>False</td>\n",
       "      <td>False</td>\n",
       "      <td>False</td>\n",
       "      <td>False</td>\n",
       "      <td>...</td>\n",
       "      <td>False</td>\n",
       "      <td>False</td>\n",
       "      <td>False</td>\n",
       "      <td>False</td>\n",
       "      <td>False</td>\n",
       "      <td>False</td>\n",
       "      <td>False</td>\n",
       "      <td>False</td>\n",
       "      <td>False</td>\n",
       "      <td>False</td>\n",
       "    </tr>\n",
       "    <tr>\n",
       "      <th>1</th>\n",
       "      <td>False</td>\n",
       "      <td>False</td>\n",
       "      <td>False</td>\n",
       "      <td>False</td>\n",
       "      <td>False</td>\n",
       "      <td>False</td>\n",
       "      <td>False</td>\n",
       "      <td>False</td>\n",
       "      <td>False</td>\n",
       "      <td>False</td>\n",
       "      <td>...</td>\n",
       "      <td>False</td>\n",
       "      <td>False</td>\n",
       "      <td>False</td>\n",
       "      <td>False</td>\n",
       "      <td>False</td>\n",
       "      <td>False</td>\n",
       "      <td>False</td>\n",
       "      <td>False</td>\n",
       "      <td>False</td>\n",
       "      <td>False</td>\n",
       "    </tr>\n",
       "    <tr>\n",
       "      <th>2</th>\n",
       "      <td>False</td>\n",
       "      <td>False</td>\n",
       "      <td>False</td>\n",
       "      <td>False</td>\n",
       "      <td>False</td>\n",
       "      <td>False</td>\n",
       "      <td>False</td>\n",
       "      <td>False</td>\n",
       "      <td>False</td>\n",
       "      <td>False</td>\n",
       "      <td>...</td>\n",
       "      <td>False</td>\n",
       "      <td>False</td>\n",
       "      <td>False</td>\n",
       "      <td>False</td>\n",
       "      <td>False</td>\n",
       "      <td>False</td>\n",
       "      <td>False</td>\n",
       "      <td>False</td>\n",
       "      <td>False</td>\n",
       "      <td>False</td>\n",
       "    </tr>\n",
       "    <tr>\n",
       "      <th>3</th>\n",
       "      <td>False</td>\n",
       "      <td>False</td>\n",
       "      <td>False</td>\n",
       "      <td>False</td>\n",
       "      <td>False</td>\n",
       "      <td>False</td>\n",
       "      <td>False</td>\n",
       "      <td>False</td>\n",
       "      <td>False</td>\n",
       "      <td>False</td>\n",
       "      <td>...</td>\n",
       "      <td>False</td>\n",
       "      <td>False</td>\n",
       "      <td>False</td>\n",
       "      <td>False</td>\n",
       "      <td>False</td>\n",
       "      <td>False</td>\n",
       "      <td>False</td>\n",
       "      <td>False</td>\n",
       "      <td>False</td>\n",
       "      <td>False</td>\n",
       "    </tr>\n",
       "    <tr>\n",
       "      <th>4</th>\n",
       "      <td>False</td>\n",
       "      <td>False</td>\n",
       "      <td>False</td>\n",
       "      <td>False</td>\n",
       "      <td>False</td>\n",
       "      <td>False</td>\n",
       "      <td>False</td>\n",
       "      <td>False</td>\n",
       "      <td>False</td>\n",
       "      <td>False</td>\n",
       "      <td>...</td>\n",
       "      <td>False</td>\n",
       "      <td>False</td>\n",
       "      <td>False</td>\n",
       "      <td>False</td>\n",
       "      <td>False</td>\n",
       "      <td>False</td>\n",
       "      <td>False</td>\n",
       "      <td>False</td>\n",
       "      <td>False</td>\n",
       "      <td>False</td>\n",
       "    </tr>\n",
       "    <tr>\n",
       "      <th>...</th>\n",
       "      <td>...</td>\n",
       "      <td>...</td>\n",
       "      <td>...</td>\n",
       "      <td>...</td>\n",
       "      <td>...</td>\n",
       "      <td>...</td>\n",
       "      <td>...</td>\n",
       "      <td>...</td>\n",
       "      <td>...</td>\n",
       "      <td>...</td>\n",
       "      <td>...</td>\n",
       "      <td>...</td>\n",
       "      <td>...</td>\n",
       "      <td>...</td>\n",
       "      <td>...</td>\n",
       "      <td>...</td>\n",
       "      <td>...</td>\n",
       "      <td>...</td>\n",
       "      <td>...</td>\n",
       "      <td>...</td>\n",
       "      <td>...</td>\n",
       "    </tr>\n",
       "    <tr>\n",
       "      <th>21608</th>\n",
       "      <td>False</td>\n",
       "      <td>False</td>\n",
       "      <td>False</td>\n",
       "      <td>False</td>\n",
       "      <td>False</td>\n",
       "      <td>False</td>\n",
       "      <td>False</td>\n",
       "      <td>False</td>\n",
       "      <td>False</td>\n",
       "      <td>False</td>\n",
       "      <td>...</td>\n",
       "      <td>False</td>\n",
       "      <td>False</td>\n",
       "      <td>False</td>\n",
       "      <td>False</td>\n",
       "      <td>False</td>\n",
       "      <td>False</td>\n",
       "      <td>False</td>\n",
       "      <td>False</td>\n",
       "      <td>False</td>\n",
       "      <td>False</td>\n",
       "    </tr>\n",
       "    <tr>\n",
       "      <th>21609</th>\n",
       "      <td>False</td>\n",
       "      <td>False</td>\n",
       "      <td>False</td>\n",
       "      <td>False</td>\n",
       "      <td>False</td>\n",
       "      <td>False</td>\n",
       "      <td>False</td>\n",
       "      <td>False</td>\n",
       "      <td>False</td>\n",
       "      <td>False</td>\n",
       "      <td>...</td>\n",
       "      <td>False</td>\n",
       "      <td>False</td>\n",
       "      <td>False</td>\n",
       "      <td>False</td>\n",
       "      <td>False</td>\n",
       "      <td>False</td>\n",
       "      <td>False</td>\n",
       "      <td>False</td>\n",
       "      <td>False</td>\n",
       "      <td>False</td>\n",
       "    </tr>\n",
       "    <tr>\n",
       "      <th>21610</th>\n",
       "      <td>False</td>\n",
       "      <td>False</td>\n",
       "      <td>False</td>\n",
       "      <td>False</td>\n",
       "      <td>False</td>\n",
       "      <td>False</td>\n",
       "      <td>False</td>\n",
       "      <td>False</td>\n",
       "      <td>False</td>\n",
       "      <td>False</td>\n",
       "      <td>...</td>\n",
       "      <td>False</td>\n",
       "      <td>False</td>\n",
       "      <td>False</td>\n",
       "      <td>False</td>\n",
       "      <td>False</td>\n",
       "      <td>False</td>\n",
       "      <td>False</td>\n",
       "      <td>False</td>\n",
       "      <td>False</td>\n",
       "      <td>False</td>\n",
       "    </tr>\n",
       "    <tr>\n",
       "      <th>21611</th>\n",
       "      <td>False</td>\n",
       "      <td>False</td>\n",
       "      <td>False</td>\n",
       "      <td>False</td>\n",
       "      <td>False</td>\n",
       "      <td>False</td>\n",
       "      <td>False</td>\n",
       "      <td>False</td>\n",
       "      <td>False</td>\n",
       "      <td>False</td>\n",
       "      <td>...</td>\n",
       "      <td>False</td>\n",
       "      <td>False</td>\n",
       "      <td>False</td>\n",
       "      <td>False</td>\n",
       "      <td>False</td>\n",
       "      <td>False</td>\n",
       "      <td>False</td>\n",
       "      <td>False</td>\n",
       "      <td>False</td>\n",
       "      <td>False</td>\n",
       "    </tr>\n",
       "    <tr>\n",
       "      <th>21612</th>\n",
       "      <td>False</td>\n",
       "      <td>False</td>\n",
       "      <td>False</td>\n",
       "      <td>False</td>\n",
       "      <td>False</td>\n",
       "      <td>False</td>\n",
       "      <td>False</td>\n",
       "      <td>False</td>\n",
       "      <td>False</td>\n",
       "      <td>False</td>\n",
       "      <td>...</td>\n",
       "      <td>False</td>\n",
       "      <td>False</td>\n",
       "      <td>False</td>\n",
       "      <td>False</td>\n",
       "      <td>False</td>\n",
       "      <td>False</td>\n",
       "      <td>False</td>\n",
       "      <td>False</td>\n",
       "      <td>False</td>\n",
       "      <td>False</td>\n",
       "    </tr>\n",
       "  </tbody>\n",
       "</table>\n",
       "<p>21613 rows × 23 columns</p>\n",
       "</div>"
      ],
      "text/plain": [
       "         cid  dayhours  price  room_bed  room_bath  living_measure  \\\n",
       "0      False     False  False     False      False           False   \n",
       "1      False     False  False     False      False           False   \n",
       "2      False     False  False     False      False           False   \n",
       "3      False     False  False     False      False           False   \n",
       "4      False     False  False     False      False           False   \n",
       "...      ...       ...    ...       ...        ...             ...   \n",
       "21608  False     False  False     False      False           False   \n",
       "21609  False     False  False     False      False           False   \n",
       "21610  False     False  False     False      False           False   \n",
       "21611  False     False  False     False      False           False   \n",
       "21612  False     False  False     False      False           False   \n",
       "\n",
       "       lot_measure   ceil  coast  sight  ...  basement  yr_built  \\\n",
       "0            False  False  False  False  ...     False     False   \n",
       "1            False  False  False  False  ...     False     False   \n",
       "2            False  False  False  False  ...     False     False   \n",
       "3            False  False  False  False  ...     False     False   \n",
       "4            False  False  False  False  ...     False     False   \n",
       "...            ...    ...    ...    ...  ...       ...       ...   \n",
       "21608        False  False  False  False  ...     False     False   \n",
       "21609        False  False  False  False  ...     False     False   \n",
       "21610        False  False  False  False  ...     False     False   \n",
       "21611        False  False  False  False  ...     False     False   \n",
       "21612        False  False  False  False  ...     False     False   \n",
       "\n",
       "       yr_renovated  zipcode    lat   long  living_measure15  lot_measure15  \\\n",
       "0             False    False  False  False             False          False   \n",
       "1             False    False  False  False             False          False   \n",
       "2             False    False  False  False             False          False   \n",
       "3             False    False  False  False             False          False   \n",
       "4             False    False  False  False             False          False   \n",
       "...             ...      ...    ...    ...               ...            ...   \n",
       "21608         False    False  False  False             False          False   \n",
       "21609         False    False  False  False             False          False   \n",
       "21610         False    False  False  False             False          False   \n",
       "21611         False    False  False  False             False          False   \n",
       "21612         False    False  False  False             False          False   \n",
       "\n",
       "       furnished  total_area  \n",
       "0          False       False  \n",
       "1          False       False  \n",
       "2          False       False  \n",
       "3          False       False  \n",
       "4          False       False  \n",
       "...          ...         ...  \n",
       "21608      False       False  \n",
       "21609      False       False  \n",
       "21610      False       False  \n",
       "21611      False       False  \n",
       "21612      False       False  \n",
       "\n",
       "[21613 rows x 23 columns]"
      ]
     },
     "execution_count": 5,
     "metadata": {},
     "output_type": "execute_result"
    }
   ],
   "source": [
    "#checking for missing values\n",
    "data.isnull()"
   ]
  },
  {
   "cell_type": "code",
   "execution_count": 6,
   "metadata": {},
   "outputs": [
    {
     "data": {
      "text/plain": [
       "cid                 0\n",
       "dayhours            0\n",
       "price               0\n",
       "room_bed            0\n",
       "room_bath           0\n",
       "living_measure      0\n",
       "lot_measure         0\n",
       "ceil                0\n",
       "coast               0\n",
       "sight               0\n",
       "condition           0\n",
       "quality             0\n",
       "ceil_measure        0\n",
       "basement            0\n",
       "yr_built            0\n",
       "yr_renovated        0\n",
       "zipcode             0\n",
       "lat                 0\n",
       "long                0\n",
       "living_measure15    0\n",
       "lot_measure15       0\n",
       "furnished           0\n",
       "total_area          0\n",
       "dtype: int64"
      ]
     },
     "execution_count": 6,
     "metadata": {},
     "output_type": "execute_result"
    }
   ],
   "source": [
    "# Check the number of missing values in each columns\n",
    "data.isnull().sum()"
   ]
  },
  {
   "cell_type": "code",
   "execution_count": 7,
   "metadata": {},
   "outputs": [
    {
     "name": "stdout",
     "output_type": "stream",
     "text": [
      "<class 'pandas.core.frame.DataFrame'>\n",
      "RangeIndex: 21613 entries, 0 to 21612\n",
      "Data columns (total 23 columns):\n",
      " #   Column            Non-Null Count  Dtype  \n",
      "---  ------            --------------  -----  \n",
      " 0   cid               21613 non-null  int64  \n",
      " 1   dayhours          21613 non-null  object \n",
      " 2   price             21613 non-null  int64  \n",
      " 3   room_bed          21613 non-null  int64  \n",
      " 4   room_bath         21613 non-null  float64\n",
      " 5   living_measure    21613 non-null  int64  \n",
      " 6   lot_measure       21613 non-null  int64  \n",
      " 7   ceil              21613 non-null  float64\n",
      " 8   coast             21613 non-null  int64  \n",
      " 9   sight             21613 non-null  int64  \n",
      " 10  condition         21613 non-null  int64  \n",
      " 11  quality           21613 non-null  int64  \n",
      " 12  ceil_measure      21613 non-null  int64  \n",
      " 13  basement          21613 non-null  int64  \n",
      " 14  yr_built          21613 non-null  int64  \n",
      " 15  yr_renovated      21613 non-null  int64  \n",
      " 16  zipcode           21613 non-null  int64  \n",
      " 17  lat               21613 non-null  float64\n",
      " 18  long              21613 non-null  float64\n",
      " 19  living_measure15  21613 non-null  int64  \n",
      " 20  lot_measure15     21613 non-null  int64  \n",
      " 21  furnished         21613 non-null  int64  \n",
      " 22  total_area        21613 non-null  int64  \n",
      "dtypes: float64(4), int64(18), object(1)\n",
      "memory usage: 3.8+ MB\n"
     ]
    }
   ],
   "source": [
    "#info about the data\n",
    "data.info()"
   ]
  },
  {
   "cell_type": "code",
   "execution_count": 8,
   "metadata": {},
   "outputs": [
    {
     "data": {
      "text/plain": [
       "cid                 21436\n",
       "dayhours              372\n",
       "price                3625\n",
       "room_bed               13\n",
       "room_bath              30\n",
       "living_measure       1038\n",
       "lot_measure          9782\n",
       "ceil                    6\n",
       "coast                   2\n",
       "sight                   5\n",
       "condition               5\n",
       "quality                12\n",
       "ceil_measure          946\n",
       "basement              306\n",
       "yr_built              116\n",
       "yr_renovated           70\n",
       "zipcode                70\n",
       "lat                  5034\n",
       "long                  752\n",
       "living_measure15      777\n",
       "lot_measure15        8689\n",
       "furnished               2\n",
       "total_area          11163\n",
       "dtype: int64"
      ]
     },
     "execution_count": 8,
     "metadata": {},
     "output_type": "execute_result"
    }
   ],
   "source": [
    "data.nunique()"
   ]
  },
  {
   "cell_type": "code",
   "execution_count": 9,
   "metadata": {},
   "outputs": [
    {
     "name": "stdout",
     "output_type": "stream",
     "text": [
      "Bed rooms\n",
      "4 3 2 5 6 1 8 33 7 0 9 10 11\n"
     ]
    }
   ],
   "source": [
    "print(\"Bed rooms\")\n",
    "print(*list(data.room_bed.unique()))"
   ]
  },
  {
   "cell_type": "code",
   "execution_count": 10,
   "metadata": {},
   "outputs": [
    {
     "name": "stdout",
     "output_type": "stream",
     "text": [
      "Bed rooms:\n",
      "4 3 2 5 6 1 8 33 7 0 9 10 11\n",
      "Bath rooms:\n",
      "3.25 2.5 1.0 1.5 1.75 2.0 2.75 2.25 3.0 4.0 4.5 3.5 5.25 4.75 4.25 5.0 7.75 3.75 0.75 5.5 6.75 1.25 6.25 0.0 5.75 6.0 0.5 6.5 7.5 8.0\n",
      "coast:\n",
      "0 1\n",
      "sight:\n",
      "0 2 4 3 1\n",
      "condition:\n",
      "5 3 4 2 1\n",
      "quality:\n",
      "9 8 6 7 10 11 5 13 12 4 3 1\n",
      "basement:\n",
      "0 800 880 1200 620 1720 540 500 720 390 1800 810 830 700 470 300 960 1450 1570 1600 770 270 160 710 1590 750 890 350 570 920 430 1100 550 940 690 840 590 190 760 900 260 100 630 2120 580 740 400 380 530 1000 435 520 290 1060 490 1070 150 480 120 460 1150 980 140 600 440 660 1030 1050 560 1540 1220 1430 1750 650 200 780 1180 1080 1350 1290 670 850 340 1460 60 280 330 1260 240 250 360 1950 310 1420 790 1440 210 1250 180 1010 640 1210 730 680 1140 1510 990 170 320 80 1390 2010 910 870 1380 130 860 1120 930 1090 1410 1400 1520 4820 420 1110 1170 820 1330 1340 2850 1020 2220 1790 1280 220 1270 1230 2030 90 230 450 1490 1300 1370 2550 1310 1500 1760 370 950 145 1040 1610 510 1160 1320 1130 1830 2060 1190 970 1580 610 1780 2490 1480 70 602 410 1700 1940 1960 143 1240 1900 1481 1620 1360 1548 110 1840 2310 1710 2070 1852 1690 556 1650 2810 50 1530 40 414 704 2040 1850 1284 1660 1816 1740 1550 2020 1670 2620 1560 2130 10 1810 1860 1890 2390 2090 515 1640 1470 1820 2720 1870 1680 1910 475 2160 2600 1930 225 3260 172 1525 946 784 2330 1630 2050 2200 935 65 906 2000 2240 2590 2080 2170 2180 915 2580 2150 1135 295 2500 1798 2110 1248 1990 265 1024 2730 3500 792 2250 1008 415 588 1281 276 2610 506 2100 768 1730 1245 1920 248 374 1913 283 417 875 3480 235 518 652 2196 516 894 862 1880 2300 1770 2360 243 508 20 266 2190 207 2570 4130 3000 666 1275 861 274 2400 176 2350\n",
      "furnished:\n",
      "1 0\n"
     ]
    }
   ],
   "source": [
    "#checking unique values of numerical columns\n",
    "print(\"Bed rooms:\")\n",
    "print(*list(data.room_bed.unique()))\n",
    "print(\"Bath rooms:\")\n",
    "print(*list(data.room_bath.unique()))\n",
    "print(\"coast:\")\n",
    "print(*list(data.coast.unique()))\n",
    "print(\"sight:\")\n",
    "print(*list(data.sight.unique()))\n",
    "print(\"condition:\")\n",
    "print(*list(data.condition.unique()))\n",
    "print(\"quality:\")\n",
    "print(*list(data.quality.unique()))\n",
    "print(\"basement:\")\n",
    "print(*list(data.basement.unique()))\n",
    "print(\"furnished:\")\n",
    "print(*list(data.furnished.unique()))"
   ]
  },
  {
   "cell_type": "code",
   "execution_count": 11,
   "metadata": {},
   "outputs": [
    {
     "data": {
      "text/html": [
       "<div>\n",
       "<style scoped>\n",
       "    .dataframe tbody tr th:only-of-type {\n",
       "        vertical-align: middle;\n",
       "    }\n",
       "\n",
       "    .dataframe tbody tr th {\n",
       "        vertical-align: top;\n",
       "    }\n",
       "\n",
       "    .dataframe thead th {\n",
       "        text-align: right;\n",
       "    }\n",
       "</style>\n",
       "<table border=\"1\" class=\"dataframe\">\n",
       "  <thead>\n",
       "    <tr style=\"text-align: right;\">\n",
       "      <th></th>\n",
       "      <th>cid</th>\n",
       "      <th>dayhours</th>\n",
       "      <th>price</th>\n",
       "      <th>room_bed</th>\n",
       "      <th>room_bath</th>\n",
       "      <th>living_measure</th>\n",
       "      <th>lot_measure</th>\n",
       "      <th>ceil</th>\n",
       "      <th>coast</th>\n",
       "      <th>sight</th>\n",
       "      <th>...</th>\n",
       "      <th>basement</th>\n",
       "      <th>yr_built</th>\n",
       "      <th>yr_renovated</th>\n",
       "      <th>zipcode</th>\n",
       "      <th>lat</th>\n",
       "      <th>long</th>\n",
       "      <th>living_measure15</th>\n",
       "      <th>lot_measure15</th>\n",
       "      <th>furnished</th>\n",
       "      <th>total_area</th>\n",
       "    </tr>\n",
       "  </thead>\n",
       "  <tbody>\n",
       "    <tr>\n",
       "      <th>750</th>\n",
       "      <td>2402100895</td>\n",
       "      <td>20140625T000000</td>\n",
       "      <td>640000</td>\n",
       "      <td>33</td>\n",
       "      <td>1.75</td>\n",
       "      <td>1620</td>\n",
       "      <td>6000</td>\n",
       "      <td>1.0</td>\n",
       "      <td>0</td>\n",
       "      <td>0</td>\n",
       "      <td>...</td>\n",
       "      <td>580</td>\n",
       "      <td>1947</td>\n",
       "      <td>0</td>\n",
       "      <td>98103</td>\n",
       "      <td>47.6878</td>\n",
       "      <td>-122.331</td>\n",
       "      <td>1330</td>\n",
       "      <td>4700</td>\n",
       "      <td>0</td>\n",
       "      <td>7620</td>\n",
       "    </tr>\n",
       "  </tbody>\n",
       "</table>\n",
       "<p>1 rows × 23 columns</p>\n",
       "</div>"
      ],
      "text/plain": [
       "            cid         dayhours   price  room_bed  room_bath  living_measure  \\\n",
       "750  2402100895  20140625T000000  640000        33       1.75            1620   \n",
       "\n",
       "     lot_measure  ceil  coast  sight  ...  basement  yr_built  yr_renovated  \\\n",
       "750         6000   1.0      0      0  ...       580      1947             0   \n",
       "\n",
       "     zipcode      lat     long  living_measure15  lot_measure15  furnished  \\\n",
       "750    98103  47.6878 -122.331              1330           4700          0   \n",
       "\n",
       "     total_area  \n",
       "750        7620  \n",
       "\n",
       "[1 rows x 23 columns]"
      ]
     },
     "execution_count": 11,
     "metadata": {},
     "output_type": "execute_result"
    }
   ],
   "source": [
    "#we have a house with 33 bed rooms , which is an outlier in this particular column\n",
    "data[data.room_bed == 33]"
   ]
  },
  {
   "cell_type": "code",
   "execution_count": 12,
   "metadata": {},
   "outputs": [],
   "source": [
    "data['yr_sold']=data['dayhours'].apply(lambda x:x[:4]).astype(int)"
   ]
  },
  {
   "cell_type": "code",
   "execution_count": 13,
   "metadata": {},
   "outputs": [
    {
     "data": {
      "text/html": [
       "<div>\n",
       "<style scoped>\n",
       "    .dataframe tbody tr th:only-of-type {\n",
       "        vertical-align: middle;\n",
       "    }\n",
       "\n",
       "    .dataframe tbody tr th {\n",
       "        vertical-align: top;\n",
       "    }\n",
       "\n",
       "    .dataframe thead th {\n",
       "        text-align: right;\n",
       "    }\n",
       "</style>\n",
       "<table border=\"1\" class=\"dataframe\">\n",
       "  <thead>\n",
       "    <tr style=\"text-align: right;\">\n",
       "      <th></th>\n",
       "      <th>cid</th>\n",
       "      <th>dayhours</th>\n",
       "      <th>price</th>\n",
       "      <th>room_bed</th>\n",
       "      <th>room_bath</th>\n",
       "      <th>living_measure</th>\n",
       "      <th>lot_measure</th>\n",
       "      <th>ceil</th>\n",
       "      <th>coast</th>\n",
       "      <th>sight</th>\n",
       "      <th>...</th>\n",
       "      <th>yr_built</th>\n",
       "      <th>yr_renovated</th>\n",
       "      <th>zipcode</th>\n",
       "      <th>lat</th>\n",
       "      <th>long</th>\n",
       "      <th>living_measure15</th>\n",
       "      <th>lot_measure15</th>\n",
       "      <th>furnished</th>\n",
       "      <th>total_area</th>\n",
       "      <th>yr_sold</th>\n",
       "    </tr>\n",
       "  </thead>\n",
       "  <tbody>\n",
       "    <tr>\n",
       "      <th>0</th>\n",
       "      <td>3034200666</td>\n",
       "      <td>20141107T000000</td>\n",
       "      <td>808100</td>\n",
       "      <td>4</td>\n",
       "      <td>3.25</td>\n",
       "      <td>3020</td>\n",
       "      <td>13457</td>\n",
       "      <td>1.0</td>\n",
       "      <td>0</td>\n",
       "      <td>0</td>\n",
       "      <td>...</td>\n",
       "      <td>1956</td>\n",
       "      <td>0</td>\n",
       "      <td>98133</td>\n",
       "      <td>47.7174</td>\n",
       "      <td>-122.336</td>\n",
       "      <td>2120</td>\n",
       "      <td>7553</td>\n",
       "      <td>1</td>\n",
       "      <td>16477</td>\n",
       "      <td>2014</td>\n",
       "    </tr>\n",
       "    <tr>\n",
       "      <th>1</th>\n",
       "      <td>8731981640</td>\n",
       "      <td>20141204T000000</td>\n",
       "      <td>277500</td>\n",
       "      <td>4</td>\n",
       "      <td>2.50</td>\n",
       "      <td>2550</td>\n",
       "      <td>7500</td>\n",
       "      <td>1.0</td>\n",
       "      <td>0</td>\n",
       "      <td>0</td>\n",
       "      <td>...</td>\n",
       "      <td>1976</td>\n",
       "      <td>0</td>\n",
       "      <td>98023</td>\n",
       "      <td>47.3165</td>\n",
       "      <td>-122.386</td>\n",
       "      <td>2260</td>\n",
       "      <td>8800</td>\n",
       "      <td>0</td>\n",
       "      <td>10050</td>\n",
       "      <td>2014</td>\n",
       "    </tr>\n",
       "    <tr>\n",
       "      <th>2</th>\n",
       "      <td>5104530220</td>\n",
       "      <td>20150420T000000</td>\n",
       "      <td>404000</td>\n",
       "      <td>3</td>\n",
       "      <td>2.50</td>\n",
       "      <td>2370</td>\n",
       "      <td>4324</td>\n",
       "      <td>2.0</td>\n",
       "      <td>0</td>\n",
       "      <td>0</td>\n",
       "      <td>...</td>\n",
       "      <td>2006</td>\n",
       "      <td>0</td>\n",
       "      <td>98038</td>\n",
       "      <td>47.3515</td>\n",
       "      <td>-121.999</td>\n",
       "      <td>2370</td>\n",
       "      <td>4348</td>\n",
       "      <td>0</td>\n",
       "      <td>6694</td>\n",
       "      <td>2015</td>\n",
       "    </tr>\n",
       "    <tr>\n",
       "      <th>3</th>\n",
       "      <td>6145600285</td>\n",
       "      <td>20140529T000000</td>\n",
       "      <td>300000</td>\n",
       "      <td>2</td>\n",
       "      <td>1.00</td>\n",
       "      <td>820</td>\n",
       "      <td>3844</td>\n",
       "      <td>1.0</td>\n",
       "      <td>0</td>\n",
       "      <td>0</td>\n",
       "      <td>...</td>\n",
       "      <td>1916</td>\n",
       "      <td>0</td>\n",
       "      <td>98133</td>\n",
       "      <td>47.7049</td>\n",
       "      <td>-122.349</td>\n",
       "      <td>1520</td>\n",
       "      <td>3844</td>\n",
       "      <td>0</td>\n",
       "      <td>4664</td>\n",
       "      <td>2014</td>\n",
       "    </tr>\n",
       "    <tr>\n",
       "      <th>4</th>\n",
       "      <td>8924100111</td>\n",
       "      <td>20150424T000000</td>\n",
       "      <td>699000</td>\n",
       "      <td>2</td>\n",
       "      <td>1.50</td>\n",
       "      <td>1400</td>\n",
       "      <td>4050</td>\n",
       "      <td>1.0</td>\n",
       "      <td>0</td>\n",
       "      <td>0</td>\n",
       "      <td>...</td>\n",
       "      <td>1954</td>\n",
       "      <td>0</td>\n",
       "      <td>98115</td>\n",
       "      <td>47.6768</td>\n",
       "      <td>-122.269</td>\n",
       "      <td>1900</td>\n",
       "      <td>5940</td>\n",
       "      <td>0</td>\n",
       "      <td>5450</td>\n",
       "      <td>2015</td>\n",
       "    </tr>\n",
       "  </tbody>\n",
       "</table>\n",
       "<p>5 rows × 24 columns</p>\n",
       "</div>"
      ],
      "text/plain": [
       "          cid         dayhours   price  room_bed  room_bath  living_measure  \\\n",
       "0  3034200666  20141107T000000  808100         4       3.25            3020   \n",
       "1  8731981640  20141204T000000  277500         4       2.50            2550   \n",
       "2  5104530220  20150420T000000  404000         3       2.50            2370   \n",
       "3  6145600285  20140529T000000  300000         2       1.00             820   \n",
       "4  8924100111  20150424T000000  699000         2       1.50            1400   \n",
       "\n",
       "   lot_measure  ceil  coast  sight  ...  yr_built  yr_renovated  zipcode  \\\n",
       "0        13457   1.0      0      0  ...      1956             0    98133   \n",
       "1         7500   1.0      0      0  ...      1976             0    98023   \n",
       "2         4324   2.0      0      0  ...      2006             0    98038   \n",
       "3         3844   1.0      0      0  ...      1916             0    98133   \n",
       "4         4050   1.0      0      0  ...      1954             0    98115   \n",
       "\n",
       "       lat     long  living_measure15  lot_measure15  furnished  total_area  \\\n",
       "0  47.7174 -122.336              2120           7553          1       16477   \n",
       "1  47.3165 -122.386              2260           8800          0       10050   \n",
       "2  47.3515 -121.999              2370           4348          0        6694   \n",
       "3  47.7049 -122.349              1520           3844          0        4664   \n",
       "4  47.6768 -122.269              1900           5940          0        5450   \n",
       "\n",
       "   yr_sold  \n",
       "0     2014  \n",
       "1     2014  \n",
       "2     2015  \n",
       "3     2014  \n",
       "4     2015  \n",
       "\n",
       "[5 rows x 24 columns]"
      ]
     },
     "execution_count": 13,
     "metadata": {},
     "output_type": "execute_result"
    }
   ],
   "source": [
    "data.head()"
   ]
  },
  {
   "cell_type": "code",
   "execution_count": 14,
   "metadata": {},
   "outputs": [],
   "source": [
    "# Add a new coulmn 'age_sold' which represents the age at which the house is sold\n",
    "# Subtract the yr_built from the yr_sold to get the at which the house was sold\n",
    "data['age_sold']=data.yr_sold-data.yr_built"
   ]
  },
  {
   "cell_type": "code",
   "execution_count": 15,
   "metadata": {},
   "outputs": [
    {
     "data": {
      "text/plain": [
       "0        1956\n",
       "1        1976\n",
       "2        2006\n",
       "3        1916\n",
       "4        1954\n",
       "         ... \n",
       "21608    2006\n",
       "21609    2003\n",
       "21610    2014\n",
       "21611    1985\n",
       "21612    1949\n",
       "Name: yr_built, Length: 21613, dtype: int64"
      ]
     },
     "execution_count": 15,
     "metadata": {},
     "output_type": "execute_result"
    }
   ],
   "source": [
    "data.yr_built"
   ]
  },
  {
   "cell_type": "code",
   "execution_count": 16,
   "metadata": {},
   "outputs": [
    {
     "data": {
      "text/plain": [
       "0        2014\n",
       "1        2014\n",
       "2        2015\n",
       "3        2014\n",
       "4        2015\n",
       "         ... \n",
       "21608    2014\n",
       "21609    2014\n",
       "21610    2014\n",
       "21611    2014\n",
       "21612    2015\n",
       "Name: yr_sold, Length: 21613, dtype: int32"
      ]
     },
     "execution_count": 16,
     "metadata": {},
     "output_type": "execute_result"
    }
   ],
   "source": [
    "data.yr_sold"
   ]
  },
  {
   "cell_type": "code",
   "execution_count": 17,
   "metadata": {},
   "outputs": [
    {
     "data": {
      "text/html": [
       "<div>\n",
       "<style scoped>\n",
       "    .dataframe tbody tr th:only-of-type {\n",
       "        vertical-align: middle;\n",
       "    }\n",
       "\n",
       "    .dataframe tbody tr th {\n",
       "        vertical-align: top;\n",
       "    }\n",
       "\n",
       "    .dataframe thead th {\n",
       "        text-align: right;\n",
       "    }\n",
       "</style>\n",
       "<table border=\"1\" class=\"dataframe\">\n",
       "  <thead>\n",
       "    <tr style=\"text-align: right;\">\n",
       "      <th></th>\n",
       "      <th>cid</th>\n",
       "      <th>dayhours</th>\n",
       "      <th>price</th>\n",
       "      <th>room_bed</th>\n",
       "      <th>room_bath</th>\n",
       "      <th>living_measure</th>\n",
       "      <th>lot_measure</th>\n",
       "      <th>ceil</th>\n",
       "      <th>coast</th>\n",
       "      <th>sight</th>\n",
       "      <th>...</th>\n",
       "      <th>yr_renovated</th>\n",
       "      <th>zipcode</th>\n",
       "      <th>lat</th>\n",
       "      <th>long</th>\n",
       "      <th>living_measure15</th>\n",
       "      <th>lot_measure15</th>\n",
       "      <th>furnished</th>\n",
       "      <th>total_area</th>\n",
       "      <th>yr_sold</th>\n",
       "      <th>age_sold</th>\n",
       "    </tr>\n",
       "  </thead>\n",
       "  <tbody>\n",
       "    <tr>\n",
       "      <th>0</th>\n",
       "      <td>3034200666</td>\n",
       "      <td>20141107T000000</td>\n",
       "      <td>808100</td>\n",
       "      <td>4</td>\n",
       "      <td>3.25</td>\n",
       "      <td>3020</td>\n",
       "      <td>13457</td>\n",
       "      <td>1.0</td>\n",
       "      <td>0</td>\n",
       "      <td>0</td>\n",
       "      <td>...</td>\n",
       "      <td>0</td>\n",
       "      <td>98133</td>\n",
       "      <td>47.7174</td>\n",
       "      <td>-122.336</td>\n",
       "      <td>2120</td>\n",
       "      <td>7553</td>\n",
       "      <td>1</td>\n",
       "      <td>16477</td>\n",
       "      <td>2014</td>\n",
       "      <td>58</td>\n",
       "    </tr>\n",
       "    <tr>\n",
       "      <th>1</th>\n",
       "      <td>8731981640</td>\n",
       "      <td>20141204T000000</td>\n",
       "      <td>277500</td>\n",
       "      <td>4</td>\n",
       "      <td>2.50</td>\n",
       "      <td>2550</td>\n",
       "      <td>7500</td>\n",
       "      <td>1.0</td>\n",
       "      <td>0</td>\n",
       "      <td>0</td>\n",
       "      <td>...</td>\n",
       "      <td>0</td>\n",
       "      <td>98023</td>\n",
       "      <td>47.3165</td>\n",
       "      <td>-122.386</td>\n",
       "      <td>2260</td>\n",
       "      <td>8800</td>\n",
       "      <td>0</td>\n",
       "      <td>10050</td>\n",
       "      <td>2014</td>\n",
       "      <td>38</td>\n",
       "    </tr>\n",
       "    <tr>\n",
       "      <th>2</th>\n",
       "      <td>5104530220</td>\n",
       "      <td>20150420T000000</td>\n",
       "      <td>404000</td>\n",
       "      <td>3</td>\n",
       "      <td>2.50</td>\n",
       "      <td>2370</td>\n",
       "      <td>4324</td>\n",
       "      <td>2.0</td>\n",
       "      <td>0</td>\n",
       "      <td>0</td>\n",
       "      <td>...</td>\n",
       "      <td>0</td>\n",
       "      <td>98038</td>\n",
       "      <td>47.3515</td>\n",
       "      <td>-121.999</td>\n",
       "      <td>2370</td>\n",
       "      <td>4348</td>\n",
       "      <td>0</td>\n",
       "      <td>6694</td>\n",
       "      <td>2015</td>\n",
       "      <td>9</td>\n",
       "    </tr>\n",
       "    <tr>\n",
       "      <th>3</th>\n",
       "      <td>6145600285</td>\n",
       "      <td>20140529T000000</td>\n",
       "      <td>300000</td>\n",
       "      <td>2</td>\n",
       "      <td>1.00</td>\n",
       "      <td>820</td>\n",
       "      <td>3844</td>\n",
       "      <td>1.0</td>\n",
       "      <td>0</td>\n",
       "      <td>0</td>\n",
       "      <td>...</td>\n",
       "      <td>0</td>\n",
       "      <td>98133</td>\n",
       "      <td>47.7049</td>\n",
       "      <td>-122.349</td>\n",
       "      <td>1520</td>\n",
       "      <td>3844</td>\n",
       "      <td>0</td>\n",
       "      <td>4664</td>\n",
       "      <td>2014</td>\n",
       "      <td>98</td>\n",
       "    </tr>\n",
       "    <tr>\n",
       "      <th>4</th>\n",
       "      <td>8924100111</td>\n",
       "      <td>20150424T000000</td>\n",
       "      <td>699000</td>\n",
       "      <td>2</td>\n",
       "      <td>1.50</td>\n",
       "      <td>1400</td>\n",
       "      <td>4050</td>\n",
       "      <td>1.0</td>\n",
       "      <td>0</td>\n",
       "      <td>0</td>\n",
       "      <td>...</td>\n",
       "      <td>0</td>\n",
       "      <td>98115</td>\n",
       "      <td>47.6768</td>\n",
       "      <td>-122.269</td>\n",
       "      <td>1900</td>\n",
       "      <td>5940</td>\n",
       "      <td>0</td>\n",
       "      <td>5450</td>\n",
       "      <td>2015</td>\n",
       "      <td>61</td>\n",
       "    </tr>\n",
       "  </tbody>\n",
       "</table>\n",
       "<p>5 rows × 25 columns</p>\n",
       "</div>"
      ],
      "text/plain": [
       "          cid         dayhours   price  room_bed  room_bath  living_measure  \\\n",
       "0  3034200666  20141107T000000  808100         4       3.25            3020   \n",
       "1  8731981640  20141204T000000  277500         4       2.50            2550   \n",
       "2  5104530220  20150420T000000  404000         3       2.50            2370   \n",
       "3  6145600285  20140529T000000  300000         2       1.00             820   \n",
       "4  8924100111  20150424T000000  699000         2       1.50            1400   \n",
       "\n",
       "   lot_measure  ceil  coast  sight  ...  yr_renovated  zipcode      lat  \\\n",
       "0        13457   1.0      0      0  ...             0    98133  47.7174   \n",
       "1         7500   1.0      0      0  ...             0    98023  47.3165   \n",
       "2         4324   2.0      0      0  ...             0    98038  47.3515   \n",
       "3         3844   1.0      0      0  ...             0    98133  47.7049   \n",
       "4         4050   1.0      0      0  ...             0    98115  47.6768   \n",
       "\n",
       "      long  living_measure15  lot_measure15  furnished  total_area  yr_sold  \\\n",
       "0 -122.336              2120           7553          1       16477     2014   \n",
       "1 -122.386              2260           8800          0       10050     2014   \n",
       "2 -121.999              2370           4348          0        6694     2015   \n",
       "3 -122.349              1520           3844          0        4664     2014   \n",
       "4 -122.269              1900           5940          0        5450     2015   \n",
       "\n",
       "   age_sold  \n",
       "0        58  \n",
       "1        38  \n",
       "2         9  \n",
       "3        98  \n",
       "4        61  \n",
       "\n",
       "[5 rows x 25 columns]"
      ]
     },
     "execution_count": 17,
     "metadata": {},
     "output_type": "execute_result"
    }
   ],
   "source": [
    "data.head()"
   ]
  },
  {
   "cell_type": "markdown",
   "metadata": {},
   "source": [
    "### We have certain features that are displayed as integers, but we know that we need to fix them as categories"
   ]
  },
  {
   "cell_type": "code",
   "execution_count": 18,
   "metadata": {},
   "outputs": [],
   "source": [
    "data.coast=pd.Categorical(data.coast)\n",
    "data.condition=pd.Categorical(data.condition)\n",
    "data.quality=pd.Categorical(data.quality)\n",
    "data.furnished=pd.Categorical(data.furnished)\n",
    "data.zipcode=pd.Categorical(data.zipcode)"
   ]
  },
  {
   "cell_type": "code",
   "execution_count": 19,
   "metadata": {},
   "outputs": [
    {
     "name": "stdout",
     "output_type": "stream",
     "text": [
      "<class 'pandas.core.frame.DataFrame'>\n",
      "RangeIndex: 21613 entries, 0 to 21612\n",
      "Data columns (total 25 columns):\n",
      " #   Column            Non-Null Count  Dtype   \n",
      "---  ------            --------------  -----   \n",
      " 0   cid               21613 non-null  int64   \n",
      " 1   dayhours          21613 non-null  object  \n",
      " 2   price             21613 non-null  int64   \n",
      " 3   room_bed          21613 non-null  int64   \n",
      " 4   room_bath         21613 non-null  float64 \n",
      " 5   living_measure    21613 non-null  int64   \n",
      " 6   lot_measure       21613 non-null  int64   \n",
      " 7   ceil              21613 non-null  float64 \n",
      " 8   coast             21613 non-null  category\n",
      " 9   sight             21613 non-null  int64   \n",
      " 10  condition         21613 non-null  category\n",
      " 11  quality           21613 non-null  category\n",
      " 12  ceil_measure      21613 non-null  int64   \n",
      " 13  basement          21613 non-null  int64   \n",
      " 14  yr_built          21613 non-null  int64   \n",
      " 15  yr_renovated      21613 non-null  int64   \n",
      " 16  zipcode           21613 non-null  category\n",
      " 17  lat               21613 non-null  float64 \n",
      " 18  long              21613 non-null  float64 \n",
      " 19  living_measure15  21613 non-null  int64   \n",
      " 20  lot_measure15     21613 non-null  int64   \n",
      " 21  furnished         21613 non-null  category\n",
      " 22  total_area        21613 non-null  int64   \n",
      " 23  yr_sold           21613 non-null  int32   \n",
      " 24  age_sold          21613 non-null  int64   \n",
      "dtypes: category(5), float64(4), int32(1), int64(14), object(1)\n",
      "memory usage: 3.3+ MB\n"
     ]
    }
   ],
   "source": [
    "data.info()"
   ]
  },
  {
   "cell_type": "code",
   "execution_count": 22,
   "metadata": {},
   "outputs": [
    {
     "data": {
      "text/html": [
       "<div>\n",
       "<style scoped>\n",
       "    .dataframe tbody tr th:only-of-type {\n",
       "        vertical-align: middle;\n",
       "    }\n",
       "\n",
       "    .dataframe tbody tr th {\n",
       "        vertical-align: top;\n",
       "    }\n",
       "\n",
       "    .dataframe thead th {\n",
       "        text-align: right;\n",
       "    }\n",
       "</style>\n",
       "<table border=\"1\" class=\"dataframe\">\n",
       "  <thead>\n",
       "    <tr style=\"text-align: right;\">\n",
       "      <th></th>\n",
       "      <th>cid</th>\n",
       "      <th>price</th>\n",
       "      <th>room_bed</th>\n",
       "      <th>room_bath</th>\n",
       "      <th>living_measure</th>\n",
       "      <th>lot_measure</th>\n",
       "      <th>ceil</th>\n",
       "      <th>sight</th>\n",
       "      <th>ceil_measure</th>\n",
       "      <th>basement</th>\n",
       "      <th>yr_built</th>\n",
       "      <th>yr_renovated</th>\n",
       "      <th>lat</th>\n",
       "      <th>long</th>\n",
       "      <th>living_measure15</th>\n",
       "      <th>lot_measure15</th>\n",
       "      <th>total_area</th>\n",
       "      <th>yr_sold</th>\n",
       "      <th>age_sold</th>\n",
       "    </tr>\n",
       "  </thead>\n",
       "  <tbody>\n",
       "    <tr>\n",
       "      <th>count</th>\n",
       "      <td>2.161300e+04</td>\n",
       "      <td>2.161300e+04</td>\n",
       "      <td>21613.000000</td>\n",
       "      <td>21613.000000</td>\n",
       "      <td>21613.000000</td>\n",
       "      <td>2.161300e+04</td>\n",
       "      <td>21613.000000</td>\n",
       "      <td>21613.000000</td>\n",
       "      <td>21613.000000</td>\n",
       "      <td>21613.000000</td>\n",
       "      <td>21613.000000</td>\n",
       "      <td>21613.000000</td>\n",
       "      <td>21613.000000</td>\n",
       "      <td>21613.000000</td>\n",
       "      <td>21613.000000</td>\n",
       "      <td>21613.000000</td>\n",
       "      <td>2.161300e+04</td>\n",
       "      <td>21613.000000</td>\n",
       "      <td>21613.000000</td>\n",
       "    </tr>\n",
       "    <tr>\n",
       "      <th>mean</th>\n",
       "      <td>4.580302e+09</td>\n",
       "      <td>5.401822e+05</td>\n",
       "      <td>3.370842</td>\n",
       "      <td>2.114757</td>\n",
       "      <td>2079.899736</td>\n",
       "      <td>1.510697e+04</td>\n",
       "      <td>1.494309</td>\n",
       "      <td>0.234303</td>\n",
       "      <td>1788.390691</td>\n",
       "      <td>291.509045</td>\n",
       "      <td>1971.005136</td>\n",
       "      <td>84.402258</td>\n",
       "      <td>47.560053</td>\n",
       "      <td>-122.213896</td>\n",
       "      <td>1986.552492</td>\n",
       "      <td>12768.455652</td>\n",
       "      <td>1.718687e+04</td>\n",
       "      <td>2014.322954</td>\n",
       "      <td>43.317818</td>\n",
       "    </tr>\n",
       "    <tr>\n",
       "      <th>std</th>\n",
       "      <td>2.876566e+09</td>\n",
       "      <td>3.673622e+05</td>\n",
       "      <td>0.930062</td>\n",
       "      <td>0.770163</td>\n",
       "      <td>918.440897</td>\n",
       "      <td>4.142051e+04</td>\n",
       "      <td>0.539989</td>\n",
       "      <td>0.766318</td>\n",
       "      <td>828.090978</td>\n",
       "      <td>442.575043</td>\n",
       "      <td>29.373411</td>\n",
       "      <td>401.679240</td>\n",
       "      <td>0.138564</td>\n",
       "      <td>0.140828</td>\n",
       "      <td>685.391304</td>\n",
       "      <td>27304.179631</td>\n",
       "      <td>4.158908e+04</td>\n",
       "      <td>0.467616</td>\n",
       "      <td>29.375493</td>\n",
       "    </tr>\n",
       "    <tr>\n",
       "      <th>min</th>\n",
       "      <td>1.000102e+06</td>\n",
       "      <td>7.500000e+04</td>\n",
       "      <td>0.000000</td>\n",
       "      <td>0.000000</td>\n",
       "      <td>290.000000</td>\n",
       "      <td>5.200000e+02</td>\n",
       "      <td>1.000000</td>\n",
       "      <td>0.000000</td>\n",
       "      <td>290.000000</td>\n",
       "      <td>0.000000</td>\n",
       "      <td>1900.000000</td>\n",
       "      <td>0.000000</td>\n",
       "      <td>47.155900</td>\n",
       "      <td>-122.519000</td>\n",
       "      <td>399.000000</td>\n",
       "      <td>651.000000</td>\n",
       "      <td>1.423000e+03</td>\n",
       "      <td>2014.000000</td>\n",
       "      <td>-1.000000</td>\n",
       "    </tr>\n",
       "    <tr>\n",
       "      <th>25%</th>\n",
       "      <td>2.123049e+09</td>\n",
       "      <td>3.219500e+05</td>\n",
       "      <td>3.000000</td>\n",
       "      <td>1.750000</td>\n",
       "      <td>1427.000000</td>\n",
       "      <td>5.040000e+03</td>\n",
       "      <td>1.000000</td>\n",
       "      <td>0.000000</td>\n",
       "      <td>1190.000000</td>\n",
       "      <td>0.000000</td>\n",
       "      <td>1951.000000</td>\n",
       "      <td>0.000000</td>\n",
       "      <td>47.471000</td>\n",
       "      <td>-122.328000</td>\n",
       "      <td>1490.000000</td>\n",
       "      <td>5100.000000</td>\n",
       "      <td>7.035000e+03</td>\n",
       "      <td>2014.000000</td>\n",
       "      <td>18.000000</td>\n",
       "    </tr>\n",
       "    <tr>\n",
       "      <th>50%</th>\n",
       "      <td>3.904930e+09</td>\n",
       "      <td>4.500000e+05</td>\n",
       "      <td>3.000000</td>\n",
       "      <td>2.250000</td>\n",
       "      <td>1910.000000</td>\n",
       "      <td>7.618000e+03</td>\n",
       "      <td>1.500000</td>\n",
       "      <td>0.000000</td>\n",
       "      <td>1560.000000</td>\n",
       "      <td>0.000000</td>\n",
       "      <td>1975.000000</td>\n",
       "      <td>0.000000</td>\n",
       "      <td>47.571800</td>\n",
       "      <td>-122.230000</td>\n",
       "      <td>1840.000000</td>\n",
       "      <td>7620.000000</td>\n",
       "      <td>9.575000e+03</td>\n",
       "      <td>2014.000000</td>\n",
       "      <td>40.000000</td>\n",
       "    </tr>\n",
       "    <tr>\n",
       "      <th>75%</th>\n",
       "      <td>7.308900e+09</td>\n",
       "      <td>6.450000e+05</td>\n",
       "      <td>4.000000</td>\n",
       "      <td>2.500000</td>\n",
       "      <td>2550.000000</td>\n",
       "      <td>1.068800e+04</td>\n",
       "      <td>2.000000</td>\n",
       "      <td>0.000000</td>\n",
       "      <td>2210.000000</td>\n",
       "      <td>560.000000</td>\n",
       "      <td>1997.000000</td>\n",
       "      <td>0.000000</td>\n",
       "      <td>47.678000</td>\n",
       "      <td>-122.125000</td>\n",
       "      <td>2360.000000</td>\n",
       "      <td>10083.000000</td>\n",
       "      <td>1.300000e+04</td>\n",
       "      <td>2015.000000</td>\n",
       "      <td>63.000000</td>\n",
       "    </tr>\n",
       "    <tr>\n",
       "      <th>max</th>\n",
       "      <td>9.900000e+09</td>\n",
       "      <td>7.700000e+06</td>\n",
       "      <td>33.000000</td>\n",
       "      <td>8.000000</td>\n",
       "      <td>13540.000000</td>\n",
       "      <td>1.651359e+06</td>\n",
       "      <td>3.500000</td>\n",
       "      <td>4.000000</td>\n",
       "      <td>9410.000000</td>\n",
       "      <td>4820.000000</td>\n",
       "      <td>2015.000000</td>\n",
       "      <td>2015.000000</td>\n",
       "      <td>47.777600</td>\n",
       "      <td>-121.315000</td>\n",
       "      <td>6210.000000</td>\n",
       "      <td>871200.000000</td>\n",
       "      <td>1.652659e+06</td>\n",
       "      <td>2015.000000</td>\n",
       "      <td>115.000000</td>\n",
       "    </tr>\n",
       "  </tbody>\n",
       "</table>\n",
       "</div>"
      ],
      "text/plain": [
       "                cid         price      room_bed     room_bath  living_measure  \\\n",
       "count  2.161300e+04  2.161300e+04  21613.000000  21613.000000    21613.000000   \n",
       "mean   4.580302e+09  5.401822e+05      3.370842      2.114757     2079.899736   \n",
       "std    2.876566e+09  3.673622e+05      0.930062      0.770163      918.440897   \n",
       "min    1.000102e+06  7.500000e+04      0.000000      0.000000      290.000000   \n",
       "25%    2.123049e+09  3.219500e+05      3.000000      1.750000     1427.000000   \n",
       "50%    3.904930e+09  4.500000e+05      3.000000      2.250000     1910.000000   \n",
       "75%    7.308900e+09  6.450000e+05      4.000000      2.500000     2550.000000   \n",
       "max    9.900000e+09  7.700000e+06     33.000000      8.000000    13540.000000   \n",
       "\n",
       "        lot_measure          ceil         sight  ceil_measure      basement  \\\n",
       "count  2.161300e+04  21613.000000  21613.000000  21613.000000  21613.000000   \n",
       "mean   1.510697e+04      1.494309      0.234303   1788.390691    291.509045   \n",
       "std    4.142051e+04      0.539989      0.766318    828.090978    442.575043   \n",
       "min    5.200000e+02      1.000000      0.000000    290.000000      0.000000   \n",
       "25%    5.040000e+03      1.000000      0.000000   1190.000000      0.000000   \n",
       "50%    7.618000e+03      1.500000      0.000000   1560.000000      0.000000   \n",
       "75%    1.068800e+04      2.000000      0.000000   2210.000000    560.000000   \n",
       "max    1.651359e+06      3.500000      4.000000   9410.000000   4820.000000   \n",
       "\n",
       "           yr_built  yr_renovated           lat          long  \\\n",
       "count  21613.000000  21613.000000  21613.000000  21613.000000   \n",
       "mean    1971.005136     84.402258     47.560053   -122.213896   \n",
       "std       29.373411    401.679240      0.138564      0.140828   \n",
       "min     1900.000000      0.000000     47.155900   -122.519000   \n",
       "25%     1951.000000      0.000000     47.471000   -122.328000   \n",
       "50%     1975.000000      0.000000     47.571800   -122.230000   \n",
       "75%     1997.000000      0.000000     47.678000   -122.125000   \n",
       "max     2015.000000   2015.000000     47.777600   -121.315000   \n",
       "\n",
       "       living_measure15  lot_measure15    total_area       yr_sold  \\\n",
       "count      21613.000000   21613.000000  2.161300e+04  21613.000000   \n",
       "mean        1986.552492   12768.455652  1.718687e+04   2014.322954   \n",
       "std          685.391304   27304.179631  4.158908e+04      0.467616   \n",
       "min          399.000000     651.000000  1.423000e+03   2014.000000   \n",
       "25%         1490.000000    5100.000000  7.035000e+03   2014.000000   \n",
       "50%         1840.000000    7620.000000  9.575000e+03   2014.000000   \n",
       "75%         2360.000000   10083.000000  1.300000e+04   2015.000000   \n",
       "max         6210.000000  871200.000000  1.652659e+06   2015.000000   \n",
       "\n",
       "           age_sold  \n",
       "count  21613.000000  \n",
       "mean      43.317818  \n",
       "std       29.375493  \n",
       "min       -1.000000  \n",
       "25%       18.000000  \n",
       "50%       40.000000  \n",
       "75%       63.000000  \n",
       "max      115.000000  "
      ]
     },
     "execution_count": 22,
     "metadata": {},
     "output_type": "execute_result"
    }
   ],
   "source": [
    "# Decribe function is applied to all the numeric columns in the data and finds the descriptive statistics\n",
    "# such as mean, median , std, quartiles,min and max values of the variables\n",
    "data.describe()"
   ]
  },
  {
   "cell_type": "markdown",
   "metadata": {},
   "source": [
    "### You know Q3 and Q1, and IQR = Q3-Q1, any datapoint which is less than Q1 - 1.5IQR  or greater than Q3+1.5IQR  is outlier."
   ]
  },
  {
   "cell_type": "code",
   "execution_count": 26,
   "metadata": {},
   "outputs": [
    {
     "name": "stdout",
     "output_type": "stream",
     "text": [
      "3.0 4.0 1.0 1.5 5.5\n"
     ]
    }
   ],
   "source": [
    "# Find Q1 value\n",
    "Q1 = data.room_bed.quantile(.25)\n",
    "Q3 = data.room_bed.quantile(.75)\n",
    "IQR = Q3 - Q1\n",
    "lower_limit = Q1-1.5*IQR\n",
    "upper_limit = Q3+1.5*IQR\n",
    "print(Q1,Q3,IQR,lower_limit,upper_limit)"
   ]
  },
  {
   "cell_type": "code",
   "execution_count": 27,
   "metadata": {},
   "outputs": [
    {
     "data": {
      "text/plain": [
       "1.5"
      ]
     },
     "execution_count": 27,
     "metadata": {},
     "output_type": "execute_result"
    }
   ],
   "source": [
    "lower_limit"
   ]
  },
  {
   "cell_type": "code",
   "execution_count": 28,
   "metadata": {},
   "outputs": [
    {
     "data": {
      "text/plain": [
       "5.5"
      ]
     },
     "execution_count": 28,
     "metadata": {},
     "output_type": "execute_result"
    }
   ],
   "source": [
    "upper_limit"
   ]
  },
  {
   "cell_type": "code",
   "execution_count": 29,
   "metadata": {},
   "outputs": [],
   "source": [
    "import seaborn as sn\n",
    "def findoutliers(column):\n",
    "    outliers=[]\n",
    "    Q1 = column.quantile(.25)\n",
    "    Q3= column.quantile(.75)\n",
    "    IQR= Q3-Q1\n",
    "    lower_limit = Q1-(IQR*1.5)\n",
    "    upper_limit= Q3+(IQR*1.5)\n",
    "    for out1 in column:\n",
    "        if out1>upper_limit or out1<lower_limit:\n",
    "            outliers.append(out1)\n",
    "    return np.array(outliers)\n",
    "\n",
    "def plotchart(col):\n",
    "    fig ,(ax1,ax2)= plt.subplots(1,2,figsize=(9,5))\n",
    "    sn.boxplot(x=col,orient='v',ax=ax1)\n",
    "    ax1.set_ylabel(col.name)\n",
    "    ax1.set_title('Box plot of {}'.format(col.name))\n",
    "    #here we will do distribution plot \n",
    "    sn.distplot(col,ax=ax2)\n",
    "    ax2.set_title('Distribution of {}'.format(col.name))"
   ]
  },
  {
   "cell_type": "code",
   "execution_count": 31,
   "metadata": {},
   "outputs": [],
   "source": [
    "def analysis_columns(col):\n",
    "    print('count of outliers',len(findoutliers(col)))\n",
    "    print('Mean',format(col.mean()))\n",
    "    print('Median',format(col.median()))\n",
    "    print('no of missing values',format(col.isnull().sum()))\n",
    "    plotchart(col)"
   ]
  },
  {
   "cell_type": "code",
   "execution_count": 32,
   "metadata": {},
   "outputs": [
    {
     "name": "stdout",
     "output_type": "stream",
     "text": [
      "count of outliers 546\n",
      "Mean 3.37084162309721\n",
      "Median 3.0\n",
      "no of missing values 0\n"
     ]
    },
    {
     "data": {
      "image/png": "[encoded data removed]",
      "text/plain": [
       "<Figure size 648x360 with 2 Axes>"
      ]
     },
     "metadata": {
      "needs_background": "light"
     },
     "output_type": "display_data"
    }
   ],
   "source": [
    "analysis_columns(data.room_bed)"
   ]
  },
  {
   "cell_type": "code",
   "execution_count": 33,
   "metadata": {},
   "outputs": [
    {
     "data": {
      "image/png": "[encoded data removed]",
      "text/plain": [
       "<Figure size 648x360 with 2 Axes>"
      ]
     },
     "metadata": {
      "needs_background": "light"
     },
     "output_type": "display_data"
    }
   ],
   "source": [
    "plotchart(data.living_measure)"
   ]
  },
  {
   "cell_type": "markdown",
   "metadata": {},
   "source": [
    "### Categorical variable analysis"
   ]
  },
  {
   "cell_type": "code",
   "execution_count": 34,
   "metadata": {},
   "outputs": [
    {
     "data": {
      "text/plain": [
       "0    21450\n",
       "1      163\n",
       "Name: coast, dtype: int64"
      ]
     },
     "execution_count": 34,
     "metadata": {},
     "output_type": "execute_result"
    }
   ],
   "source": [
    "data.coast.value_counts()"
   ]
  },
  {
   "cell_type": "code",
   "execution_count": 35,
   "metadata": {},
   "outputs": [
    {
     "data": {
      "text/plain": [
       "0    0.992458\n",
       "1    0.007542\n",
       "Name: coast, dtype: float64"
      ]
     },
     "execution_count": 35,
     "metadata": {},
     "output_type": "execute_result"
    }
   ],
   "source": [
    "data.coast.value_counts(normalize=True)"
   ]
  },
  {
   "cell_type": "markdown",
   "metadata": {},
   "source": [
    "The above code converts the values to percentage because of normalize key word"
   ]
  },
  {
   "cell_type": "markdown",
   "metadata": {},
   "source": [
    "#### 99.25 percent of houses dont have a coast, 0.75 % of houses have a coast"
   ]
  },
  {
   "cell_type": "code",
   "execution_count": 39,
   "metadata": {},
   "outputs": [
    {
     "data": {
      "text/plain": [
       "Index(['cid', 'dayhours', 'price', 'room_bed', 'room_bath', 'living_measure',\n",
       "       'lot_measure', 'ceil', 'coast', 'sight', 'condition', 'quality',\n",
       "       'ceil_measure', 'basement', 'yr_built', 'yr_renovated', 'zipcode',\n",
       "       'lat', 'long', 'living_measure15', 'lot_measure15', 'furnished',\n",
       "       'total_area', 'yr_sold', 'age_sold'],\n",
       "      dtype='object')"
      ]
     },
     "execution_count": 39,
     "metadata": {},
     "output_type": "execute_result"
    }
   ],
   "source": [
    "data.columns"
   ]
  },
  {
   "cell_type": "code",
   "execution_count": 40,
   "metadata": {},
   "outputs": [
    {
     "data": {
      "text/plain": [
       "3    14031\n",
       "4     5679\n",
       "5     1701\n",
       "2      172\n",
       "1       30\n",
       "Name: condition, dtype: int64"
      ]
     },
     "execution_count": 40,
     "metadata": {},
     "output_type": "execute_result"
    }
   ],
   "source": [
    "data.condition.value_counts()"
   ]
  },
  {
   "cell_type": "code",
   "execution_count": 41,
   "metadata": {},
   "outputs": [
    {
     "data": {
      "text/plain": [
       "<seaborn.axisgrid.FacetGrid at 0x14ef2ed8400>"
      ]
     },
     "execution_count": 41,
     "metadata": {},
     "output_type": "execute_result"
    },
    {
     "data": {
      "image/png": "[encoded data removed]",
      "text/plain": [
       "<Figure size 360x360 with 1 Axes>"
      ]
     },
     "metadata": {
      "needs_background": "light"
     },
     "output_type": "display_data"
    }
   ],
   "source": [
    "sn.factorplot('condition',data=data,kind='count')"
   ]
  },
  {
   "cell_type": "code",
   "execution_count": 42,
   "metadata": {},
   "outputs": [
    {
     "data": {
      "text/plain": [
       "7     8981\n",
       "8     6068\n",
       "9     2615\n",
       "6     2038\n",
       "10    1134\n",
       "11     399\n",
       "5      242\n",
       "12      90\n",
       "4       29\n",
       "13      13\n",
       "3        3\n",
       "1        1\n",
       "Name: quality, dtype: int64"
      ]
     },
     "execution_count": 42,
     "metadata": {},
     "output_type": "execute_result"
    }
   ],
   "source": [
    "data.quality.value_counts()"
   ]
  },
  {
   "cell_type": "code",
   "execution_count": 43,
   "metadata": {},
   "outputs": [
    {
     "data": {
      "text/plain": [
       "7     0.415537\n",
       "8     0.280757\n",
       "9     0.120992\n",
       "6     0.094295\n",
       "10    0.052468\n",
       "11    0.018461\n",
       "5     0.011197\n",
       "12    0.004164\n",
       "4     0.001342\n",
       "13    0.000601\n",
       "3     0.000139\n",
       "1     0.000046\n",
       "Name: quality, dtype: float64"
      ]
     },
     "execution_count": 43,
     "metadata": {},
     "output_type": "execute_result"
    }
   ],
   "source": [
    "data.quality.value_counts(normalize=True)"
   ]
  },
  {
   "cell_type": "code",
   "execution_count": 44,
   "metadata": {},
   "outputs": [
    {
     "data": {
      "text/plain": [
       "<seaborn.axisgrid.FacetGrid at 0x14ef2ed8a60>"
      ]
     },
     "execution_count": 44,
     "metadata": {},
     "output_type": "execute_result"
    },
    {
     "data": {
      "image/png": "[encoded data removed]",
      "text/plain": [
       "<Figure size 360x360 with 1 Axes>"
      ]
     },
     "metadata": {
      "needs_background": "light"
     },
     "output_type": "display_data"
    }
   ],
   "source": [
    "sn.factorplot('quality',data=data,kind='count')"
   ]
  },
  {
   "cell_type": "code",
   "execution_count": 49,
   "metadata": {},
   "outputs": [
    {
     "data": {
      "text/plain": [
       "<seaborn.axisgrid.FacetGrid at 0x14ef31af640>"
      ]
     },
     "execution_count": 49,
     "metadata": {},
     "output_type": "execute_result"
    },
    {
     "data": {
      "image/png": "[encoded data removed]",
      "text/plain": [
       "<Figure size 1440x360 with 1 Axes>"
      ]
     },
     "metadata": {
      "needs_background": "light"
     },
     "output_type": "display_data"
    }
   ],
   "source": [
    "pl = sn.factorplot('yr_built',data=data,aspect=4,kind='count')\n",
    "pl.set_xticklabels(step=5)"
   ]
  },
  {
   "cell_type": "code",
   "execution_count": 46,
   "metadata": {},
   "outputs": [
    {
     "data": {
      "text/plain": [
       "<seaborn.axisgrid.FacetGrid at 0x14ef3038850>"
      ]
     },
     "execution_count": 46,
     "metadata": {},
     "output_type": "execute_result"
    },
    {
     "data": {
      "image/png": "[encoded data removed]",
      "text/plain": [
       "<Figure size 1440x360 with 1 Axes>"
      ]
     },
     "metadata": {
      "needs_background": "light"
     },
     "output_type": "display_data"
    }
   ],
   "source": [
    "pl = sn.factorplot('zipcode',data=data, aspect = 4 , kind='count')\n",
    "pl.set_xticklabels(step=5)"
   ]
  },
  {
   "cell_type": "code",
   "execution_count": 50,
   "metadata": {},
   "outputs": [
    {
     "data": {
      "text/plain": [
       "<seaborn.axisgrid.FacetGrid at 0x14ef5c04490>"
      ]
     },
     "execution_count": 50,
     "metadata": {},
     "output_type": "execute_result"
    },
    {
     "data": {
      "image/png": "[encoded data removed]",
      "text/plain": [
       "<Figure size 360x360 with 1 Axes>"
      ]
     },
     "metadata": {
      "needs_background": "light"
     },
     "output_type": "display_data"
    }
   ],
   "source": [
    "sn.factorplot('yr_sold',data=data,kind='count')"
   ]
  },
  {
   "cell_type": "code",
   "execution_count": 51,
   "metadata": {},
   "outputs": [
    {
     "data": {
      "text/plain": [
       "2014    0.677046\n",
       "2015    0.322954\n",
       "Name: yr_sold, dtype: float64"
      ]
     },
     "execution_count": 51,
     "metadata": {},
     "output_type": "execute_result"
    }
   ],
   "source": [
    "data.yr_sold.value_counts(normalize=True)"
   ]
  },
  {
   "cell_type": "code",
   "execution_count": 56,
   "metadata": {},
   "outputs": [
    {
     "name": "stdout",
     "output_type": "stream",
     "text": [
      "cid                  0.243329\n",
      "price                4.021716\n",
      "room_bed             1.974300\n",
      "room_bath            0.511108\n",
      "living_measure       1.471555\n",
      "lot_measure         13.060019\n",
      "ceil                 0.616177\n",
      "sight                3.395750\n",
      "ceil_measure         1.446664\n",
      "basement             1.577965\n",
      "yr_built            -0.469805\n",
      "yr_renovated         4.549493\n",
      "lat                 -0.485270\n",
      "long                 0.885053\n",
      "living_measure15     1.108181\n",
      "lot_measure15        9.506743\n",
      "total_area          12.956067\n",
      "yr_sold              0.757299\n",
      "age_sold             0.469162\n",
      "dtype: float64\n"
     ]
    }
   ],
   "source": [
    "# Check the skewness\n",
    "print(data.skew())"
   ]
  },
  {
   "cell_type": "code",
   "execution_count": 57,
   "metadata": {},
   "outputs": [
    {
     "data": {
      "text/plain": [
       "cid                  -1.260542\n",
       "price                34.522444\n",
       "room_bed             49.063653\n",
       "room_bath             1.279902\n",
       "living_measure        5.243093\n",
       "lot_measure         285.077820\n",
       "ceil                 -0.484723\n",
       "sight                10.893022\n",
       "ceil_measure          3.402304\n",
       "basement              2.715574\n",
       "yr_built             -0.657408\n",
       "yr_renovated         18.701152\n",
       "lat                  -0.676313\n",
       "long                  1.049501\n",
       "living_measure15      1.597096\n",
       "lot_measure15       150.763110\n",
       "total_area          281.216331\n",
       "yr_sold              -1.426630\n",
       "age_sold             -0.657983\n",
       "dtype: float64"
      ]
     },
     "execution_count": 57,
     "metadata": {},
     "output_type": "execute_result"
    }
   ],
   "source": [
    "# Check the kurtosis\n",
    "data.kurtosis()"
   ]
  },
  {
   "cell_type": "markdown",
   "metadata": {},
   "source": [
    "### Bivariate analysis"
   ]
  },
  {
   "cell_type": "code",
   "execution_count": 58,
   "metadata": {},
   "outputs": [
    {
     "data": {
      "text/plain": [
       "Index(['cid', 'dayhours', 'price', 'room_bed', 'room_bath', 'living_measure',\n",
       "       'lot_measure', 'ceil', 'coast', 'sight', 'condition', 'quality',\n",
       "       'ceil_measure', 'basement', 'yr_built', 'yr_renovated', 'zipcode',\n",
       "       'lat', 'long', 'living_measure15', 'lot_measure15', 'furnished',\n",
       "       'total_area', 'yr_sold', 'age_sold'],\n",
       "      dtype='object')"
      ]
     },
     "execution_count": 58,
     "metadata": {},
     "output_type": "execute_result"
    }
   ],
   "source": [
    "data.columns"
   ]
  },
  {
   "cell_type": "code",
   "execution_count": 59,
   "metadata": {},
   "outputs": [],
   "source": [
    "data1=data[['price','lot_measure','living_measure','lot_measure15','living_measure15']]"
   ]
  },
  {
   "cell_type": "code",
   "execution_count": 60,
   "metadata": {},
   "outputs": [
    {
     "data": {
      "text/html": [
       "<div>\n",
       "<style scoped>\n",
       "    .dataframe tbody tr th:only-of-type {\n",
       "        vertical-align: middle;\n",
       "    }\n",
       "\n",
       "    .dataframe tbody tr th {\n",
       "        vertical-align: top;\n",
       "    }\n",
       "\n",
       "    .dataframe thead th {\n",
       "        text-align: right;\n",
       "    }\n",
       "</style>\n",
       "<table border=\"1\" class=\"dataframe\">\n",
       "  <thead>\n",
       "    <tr style=\"text-align: right;\">\n",
       "      <th></th>\n",
       "      <th>price</th>\n",
       "      <th>lot_measure</th>\n",
       "      <th>living_measure</th>\n",
       "      <th>lot_measure15</th>\n",
       "      <th>living_measure15</th>\n",
       "    </tr>\n",
       "  </thead>\n",
       "  <tbody>\n",
       "    <tr>\n",
       "      <th>0</th>\n",
       "      <td>808100</td>\n",
       "      <td>13457</td>\n",
       "      <td>3020</td>\n",
       "      <td>7553</td>\n",
       "      <td>2120</td>\n",
       "    </tr>\n",
       "    <tr>\n",
       "      <th>1</th>\n",
       "      <td>277500</td>\n",
       "      <td>7500</td>\n",
       "      <td>2550</td>\n",
       "      <td>8800</td>\n",
       "      <td>2260</td>\n",
       "    </tr>\n",
       "    <tr>\n",
       "      <th>2</th>\n",
       "      <td>404000</td>\n",
       "      <td>4324</td>\n",
       "      <td>2370</td>\n",
       "      <td>4348</td>\n",
       "      <td>2370</td>\n",
       "    </tr>\n",
       "    <tr>\n",
       "      <th>3</th>\n",
       "      <td>300000</td>\n",
       "      <td>3844</td>\n",
       "      <td>820</td>\n",
       "      <td>3844</td>\n",
       "      <td>1520</td>\n",
       "    </tr>\n",
       "    <tr>\n",
       "      <th>4</th>\n",
       "      <td>699000</td>\n",
       "      <td>4050</td>\n",
       "      <td>1400</td>\n",
       "      <td>5940</td>\n",
       "      <td>1900</td>\n",
       "    </tr>\n",
       "  </tbody>\n",
       "</table>\n",
       "</div>"
      ],
      "text/plain": [
       "    price  lot_measure  living_measure  lot_measure15  living_measure15\n",
       "0  808100        13457            3020           7553              2120\n",
       "1  277500         7500            2550           8800              2260\n",
       "2  404000         4324            2370           4348              2370\n",
       "3  300000         3844             820           3844              1520\n",
       "4  699000         4050            1400           5940              1900"
      ]
     },
     "execution_count": 60,
     "metadata": {},
     "output_type": "execute_result"
    }
   ],
   "source": [
    "data1.head()"
   ]
  },
  {
   "cell_type": "code",
   "execution_count": 63,
   "metadata": {},
   "outputs": [
    {
     "name": "stdout",
     "output_type": "stream",
     "text": [
      "                     price  lot_measure  living_measure  lot_measure15  \\\n",
      "price             1.000000     0.089655        0.702044       0.082456   \n",
      "lot_measure       0.089655     1.000000        0.172826       0.718557   \n",
      "living_measure    0.702044     0.172826        1.000000       0.183286   \n",
      "lot_measure15     0.082456     0.718557        0.183286       1.000000   \n",
      "living_measure15  0.585374     0.144608        0.756420       0.183192   \n",
      "\n",
      "                  living_measure15  \n",
      "price                     0.585374  \n",
      "lot_measure               0.144608  \n",
      "living_measure            0.756420  \n",
      "lot_measure15             0.183192  \n",
      "living_measure15          1.000000  \n"
     ]
    }
   ],
   "source": [
    "corr=data1.corr(method='pearson')\n",
    "print(corr)"
   ]
  },
  {
   "cell_type": "code",
   "execution_count": 62,
   "metadata": {},
   "outputs": [
    {
     "name": "stdout",
     "output_type": "stream",
     "text": [
      "                     price  lot_measure  living_measure  lot_measure15  \\\n",
      "price             1.000000     0.089655        0.702044       0.082456   \n",
      "lot_measure       0.089655     1.000000        0.172826       0.718557   \n",
      "living_measure    0.702044     0.172826        1.000000       0.183286   \n",
      "lot_measure15     0.082456     0.718557        0.183286       1.000000   \n",
      "living_measure15  0.585374     0.144608        0.756420       0.183192   \n",
      "\n",
      "                  living_measure15  \n",
      "price                     0.585374  \n",
      "lot_measure               0.144608  \n",
      "living_measure            0.756420  \n",
      "lot_measure15             0.183192  \n",
      "living_measure15          1.000000  \n"
     ]
    }
   ],
   "source": [
    "corr=data1.corr()\n",
    "print(corr)"
   ]
  },
  {
   "cell_type": "code",
   "execution_count": 61,
   "metadata": {},
   "outputs": [
    {
     "name": "stdout",
     "output_type": "stream",
     "text": [
      "                     price  lot_measure  living_measure  lot_measure15  \\\n",
      "price             1.000000     0.074937        0.644192       0.062763   \n",
      "lot_measure       0.074937     1.000000        0.304159       0.922316   \n",
      "living_measure    0.644192     0.304159        1.000000       0.283864   \n",
      "lot_measure15     0.062763     0.922316        0.283864       1.000000   \n",
      "living_measure15  0.572289     0.359572        0.746982       0.365723   \n",
      "\n",
      "                  living_measure15  \n",
      "price                     0.572289  \n",
      "lot_measure               0.359572  \n",
      "living_measure            0.746982  \n",
      "lot_measure15             0.365723  \n",
      "living_measure15          1.000000  \n"
     ]
    }
   ],
   "source": [
    "corr=data1.corr(method='spearman')\n",
    "print(corr)"
   ]
  },
  {
   "cell_type": "code",
   "execution_count": 68,
   "metadata": {},
   "outputs": [
    {
     "data": {
      "text/plain": [
       "<AxesSubplot:>"
      ]
     },
     "execution_count": 68,
     "metadata": {},
     "output_type": "execute_result"
    },
    {
     "data": {
      "image/png": "[encoded data removed]",
      "text/plain": [
       "<Figure size 576x576 with 2 Axes>"
      ]
     },
     "metadata": {
      "needs_background": "light"
     },
     "output_type": "display_data"
    }
   ],
   "source": [
    "plt.figure(figsize=(8,8))\n",
    "sn.heatmap(corr,vmax=.8,linewidths=0.01,\n",
    "           square=True,annot=True,cmap='RdBu',linecolor='black')"
   ]
  },
  {
   "cell_type": "code",
   "execution_count": 69,
   "metadata": {},
   "outputs": [
    {
     "name": "stdout",
     "output_type": "stream",
     "text": [
      "                     price  lot_measure  living_measure  lot_measure15  \\\n",
      "price             1.000000     0.089655        0.702044       0.082456   \n",
      "lot_measure       0.089655     1.000000        0.172826       0.718557   \n",
      "living_measure    0.702044     0.172826        1.000000       0.183286   \n",
      "lot_measure15     0.082456     0.718557        0.183286       1.000000   \n",
      "living_measure15  0.585374     0.144608        0.756420       0.183192   \n",
      "\n",
      "                  living_measure15  \n",
      "price                     0.585374  \n",
      "lot_measure               0.144608  \n",
      "living_measure            0.756420  \n",
      "lot_measure15             0.183192  \n",
      "living_measure15          1.000000  \n"
     ]
    },
    {
     "data": {
      "text/plain": [
       "<AxesSubplot:>"
      ]
     },
     "execution_count": 69,
     "metadata": {},
     "output_type": "execute_result"
    },
    {
     "data": {
      "image/png": "[encoded data removed]",
      "text/plain": [
       "<Figure size 576x576 with 2 Axes>"
      ]
     },
     "metadata": {
      "needs_background": "light"
     },
     "output_type": "display_data"
    }
   ],
   "source": [
    "data1=data[['price','lot_measure','living_measure','lot_measure15','living_measure15']]\n",
    "corr=data1.corr()\n",
    "print(corr)\n",
    "plt.figure(figsize=(8,8))\n",
    "sn.heatmap(corr,vmax=.8,linewidths=0.01,\n",
    "           square=True,annot=True,cmap='RdBu',linecolor='black')"
   ]
  },
  {
   "cell_type": "code",
   "execution_count": 70,
   "metadata": {},
   "outputs": [
    {
     "data": {
      "text/html": [
       "<div>\n",
       "<style scoped>\n",
       "    .dataframe tbody tr th:only-of-type {\n",
       "        vertical-align: middle;\n",
       "    }\n",
       "\n",
       "    .dataframe tbody tr th {\n",
       "        vertical-align: top;\n",
       "    }\n",
       "\n",
       "    .dataframe thead th {\n",
       "        text-align: right;\n",
       "    }\n",
       "</style>\n",
       "<table border=\"1\" class=\"dataframe\">\n",
       "  <thead>\n",
       "    <tr style=\"text-align: right;\">\n",
       "      <th></th>\n",
       "      <th>price</th>\n",
       "      <th>lot_measure</th>\n",
       "      <th>living_measure</th>\n",
       "      <th>lot_measure15</th>\n",
       "      <th>living_measure15</th>\n",
       "    </tr>\n",
       "  </thead>\n",
       "  <tbody>\n",
       "    <tr>\n",
       "      <th>price</th>\n",
       "      <td>1.349550e+11</td>\n",
       "      <td>1.364223e+09</td>\n",
       "      <td>2.368699e+08</td>\n",
       "      <td>8.270724e+08</td>\n",
       "      <td>1.473895e+08</td>\n",
       "    </tr>\n",
       "    <tr>\n",
       "      <th>lot_measure</th>\n",
       "      <td>1.364223e+09</td>\n",
       "      <td>1.715659e+09</td>\n",
       "      <td>6.574684e+06</td>\n",
       "      <td>8.126540e+08</td>\n",
       "      <td>4.105319e+06</td>\n",
       "    </tr>\n",
       "    <tr>\n",
       "      <th>living_measure</th>\n",
       "      <td>2.368699e+08</td>\n",
       "      <td>6.574684e+06</td>\n",
       "      <td>8.435337e+05</td>\n",
       "      <td>4.596302e+06</td>\n",
       "      <td>4.761601e+05</td>\n",
       "    </tr>\n",
       "    <tr>\n",
       "      <th>lot_measure15</th>\n",
       "      <td>8.270724e+08</td>\n",
       "      <td>8.126540e+08</td>\n",
       "      <td>4.596302e+06</td>\n",
       "      <td>7.455182e+08</td>\n",
       "      <td>3.428259e+06</td>\n",
       "    </tr>\n",
       "    <tr>\n",
       "      <th>living_measure15</th>\n",
       "      <td>1.473895e+08</td>\n",
       "      <td>4.105319e+06</td>\n",
       "      <td>4.761601e+05</td>\n",
       "      <td>3.428259e+06</td>\n",
       "      <td>4.697612e+05</td>\n",
       "    </tr>\n",
       "  </tbody>\n",
       "</table>\n",
       "</div>"
      ],
      "text/plain": [
       "                         price   lot_measure  living_measure  lot_measure15  \\\n",
       "price             1.349550e+11  1.364223e+09    2.368699e+08   8.270724e+08   \n",
       "lot_measure       1.364223e+09  1.715659e+09    6.574684e+06   8.126540e+08   \n",
       "living_measure    2.368699e+08  6.574684e+06    8.435337e+05   4.596302e+06   \n",
       "lot_measure15     8.270724e+08  8.126540e+08    4.596302e+06   7.455182e+08   \n",
       "living_measure15  1.473895e+08  4.105319e+06    4.761601e+05   3.428259e+06   \n",
       "\n",
       "                  living_measure15  \n",
       "price                 1.473895e+08  \n",
       "lot_measure           4.105319e+06  \n",
       "living_measure        4.761601e+05  \n",
       "lot_measure15         3.428259e+06  \n",
       "living_measure15      4.697612e+05  "
      ]
     },
     "execution_count": 70,
     "metadata": {},
     "output_type": "execute_result"
    }
   ],
   "source": [
    "data1.cov()"
   ]
  },
  {
   "cell_type": "code",
   "execution_count": null,
   "metadata": {},
   "outputs": [],
   "source": [
    "data1=data[['price','lot_measure','living_measure','lot_measure15','living_measure15']]\n",
    "corr=data1.corr(method = 'pearson')\n",
    "print(corr)\n",
    "plt.figure(figsize=(8,8))\n",
    "sn.heatmap(corr,vmax=.8,linewidths=0.01,\n",
    "           square=True,annot=True,cmap='RdBu',linecolor='black')"
   ]
  },
  {
   "cell_type": "code",
   "execution_count": null,
   "metadata": {},
   "outputs": [],
   "source": [
    "corr=data.corr(method='spearman')\n",
    "plt.figure(figsize=(15,15))\n",
    "sn.heatmap(corr,vmax=.8,linewidths=0.01,\n",
    "           square=True,annot=True,cmap='RdBu',linecolor='black')"
   ]
  },
  {
   "cell_type": "code",
   "execution_count": null,
   "metadata": {},
   "outputs": [],
   "source": [
    "#Plots between independent variables and price that is target\n",
    "sn.regplot(x=data.room_bed,y=data.price,color='g')"
   ]
  },
  {
   "cell_type": "code",
   "execution_count": null,
   "metadata": {},
   "outputs": [],
   "source": [
    "sn.regplot(x=data.room_bath,y=data.price,color='g')"
   ]
  },
  {
   "cell_type": "code",
   "execution_count": null,
   "metadata": {},
   "outputs": [],
   "source": [
    "from scipy.stats import spearmanr"
   ]
  },
  {
   "cell_type": "code",
   "execution_count": null,
   "metadata": {},
   "outputs": [],
   "source": [
    "sn.regplot(x=data.living_measure,y=data.price,color='g')\n",
    "print(spearmanr(data.living_measure,data.price))"
   ]
  },
  {
   "cell_type": "code",
   "execution_count": null,
   "metadata": {},
   "outputs": [],
   "source": [
    "#bivariate analysis for independent variable being a category and dependent variable being \n",
    "#a number\n",
    "\n",
    "sn.barplot(x=data.quality,y=data.price)"
   ]
  },
  {
   "cell_type": "code",
   "execution_count": null,
   "metadata": {},
   "outputs": [],
   "source": [
    "sn.barplot(x=data.condition,y=data.price)"
   ]
  },
  {
   "cell_type": "code",
   "execution_count": null,
   "metadata": {},
   "outputs": [],
   "source": [
    "data.age_sold.nunique()"
   ]
  },
  {
   "cell_type": "code",
   "execution_count": null,
   "metadata": {},
   "outputs": [],
   "source": [
    "data.age_sold.max()"
   ]
  },
  {
   "cell_type": "code",
   "execution_count": null,
   "metadata": {},
   "outputs": [],
   "source": [
    "data.age_sold.min()"
   ]
  },
  {
   "cell_type": "code",
   "execution_count": null,
   "metadata": {},
   "outputs": [],
   "source": [
    "data['age_bin']=pd.cut(data.age_sold,bins=[0,10,20,25,30,50,75,100,150])\n",
    "sn.barplot(x=data.age_bin,y=data.price)"
   ]
  },
  {
   "cell_type": "code",
   "execution_count": null,
   "metadata": {},
   "outputs": [],
   "source": []
  }
 ],
 "metadata": {
  "kernelspec": {
   "display_name": "Python 3 (ipykernel)",
   "language": "python",
   "name": "python3"
  },
  "language_info": {
   "codemirror_mode": {
    "name": "ipython",
    "version": 3
   },
   "file_extension": ".py",
   "mimetype": "text/x-python",
   "name": "python",
   "nbconvert_exporter": "python",
   "pygments_lexer": "ipython3",
   "version": "3.9.7"
  }
 },
 "nbformat": 4,
 "nbformat_minor": 2
}
